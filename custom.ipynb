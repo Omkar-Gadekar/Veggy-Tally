{
  "nbformat": 4,
  "nbformat_minor": 0,
  "metadata": {
    "colab": {
      "provenance": [],
      "gpuType": "T4"
    },
    "kernelspec": {
      "name": "python3",
      "display_name": "Python 3"
    },
    "language_info": {
      "name": "python"
    },
    "accelerator": "GPU"
  },
  "cells": [
    {
      "cell_type": "code",
      "execution_count": null,
      "metadata": {
        "id": "g7zSODLMdEBi"
      },
      "outputs": [],
      "source": [
        "!pip install ultralytics -q"
      ]
    },
    {
      "cell_type": "code",
      "source": [
        "from ultralytics import YOLO"
      ],
      "metadata": {
        "id": "mE0YSi1Ydhbj"
      },
      "execution_count": null,
      "outputs": []
    },
    {
      "cell_type": "code",
      "source": [
        "from google.colab import drive\n",
        "drive.mount('/content/drive')"
      ],
      "metadata": {
        "id": "EBtHc_HCabwg"
      },
      "execution_count": null,
      "outputs": []
    },
    {
      "cell_type": "code",
      "source": [
        "%cd /content/drive/MyDrive/Colab Notebooks/custom/model1"
      ],
      "metadata": {
        "id": "6pikXnpndjOx"
      },
      "execution_count": null,
      "outputs": []
    },
    {
      "cell_type": "code",
      "source": [
        "model = YOLO(\"yolov8m.pt\")"
      ],
      "metadata": {
        "id": "NyCE9_1fd2mO"
      },
      "execution_count": null,
      "outputs": []
    },
    {
      "cell_type": "code",
      "source": [
        "model.train(data = \"/content/drive/MyDrive/Colab Notebooks/custom/data.yaml\", epochs=30)"
      ],
      "metadata": {
        "id": "W4NeftpSd4PN"
      },
      "execution_count": null,
      "outputs": []
    },
    {
      "cell_type": "code",
      "source": [
        "infer = YOLO(\"/content/drive/MyDrive/Colab Notebooks/custom/model1/runs/detect/train/weights/best.pt\")"
      ],
      "metadata": {
        "id": "y5bhbzTln8Np"
      },
      "execution_count": null,
      "outputs": []
    },
    {
      "cell_type": "code",
      "source": [
        "infer.predict(\"/content/drive/MyDrive/Colab Notebooks/custom/CUSTOM_DATA1/test/images\", save=True, save_txt=True)"
      ],
      "metadata": {
        "id": "sBo-PBIToDOB"
      },
      "execution_count": null,
      "outputs": []
    },
    {
      "cell_type": "code",
      "source": [
        "%cd /content/drive/MyDrive/Colab Notebooks/custom/videos"
      ],
      "metadata": {
        "id": "MldbBbrMvRxG"
      },
      "execution_count": null,
      "outputs": []
    },
    {
      "cell_type": "code",
      "source": [
        "import locale\n",
        "locale.getpreferredencoding = lambda: \"UTF-8\""
      ],
      "metadata": {
        "id": "Eszr_QNXkq_u"
      },
      "execution_count": null,
      "outputs": []
    },
    {
      "cell_type": "code",
      "source": [
        "!yolo predict model=\"/content/drive/MyDrive/Colab Notebooks/custom/model1/runs/detect/train/weights/best.pt\" source=\"/content/drive/MyDrive/Colab Notebooks/custom/videos/side by sides.mp4\""
      ],
      "metadata": {
        "id": "yAjFq6JZt8gL"
      },
      "execution_count": null,
      "outputs": []
    },
    {
      "cell_type": "code",
      "source": [
        "!yolo detect predict model=\"/content/drive/MyDrive/Colab Notebooks/custom/model1/runs/detect/train/weights/best.pt\" source=\"/content/drive/MyDrive/Colab Notebooks/custom/videos/clip_custom.mp4\""
      ],
      "metadata": {
        "id": "b2cYt9XPhnSl"
      },
      "execution_count": null,
      "outputs": []
    },
    {
      "cell_type": "code",
      "source": [
        "!ffmpeg -i \"/content/drive/MyDrive/Colab Notebooks/custom/videos/runs/detect/predict4/side by sides.avi\" -vcodec libx264 \"fork_cust2.mp4\""
      ],
      "metadata": {
        "id": "9q2FqfY7uKY2"
      },
      "execution_count": null,
      "outputs": []
    }
  ]
}